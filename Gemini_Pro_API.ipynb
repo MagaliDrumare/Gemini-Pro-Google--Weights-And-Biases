{
  "nbformat": 4,
  "nbformat_minor": 0,
  "metadata": {
    "colab": {
      "private_outputs": true,
      "provenance": [],
      "authorship_tag": "ABX9TyOQERC3yYhuVGExKRufJfrB",
      "include_colab_link": true
    },
    "kernelspec": {
      "name": "python3",
      "display_name": "Python 3"
    },
    "language_info": {
      "name": "python"
    }
  },
  "cells": [
    {
      "cell_type": "markdown",
      "metadata": {
        "id": "view-in-github",
        "colab_type": "text"
      },
      "source": [
        "<a href=\"https://colab.research.google.com/github/MagaliDrumare/Gemini-Pro-Weight-Biases/blob/main/Gemini_Pro_API.ipynb\" target=\"_parent\"><img src=\"https://colab.research.google.com/assets/colab-badge.svg\" alt=\"Open In Colab\"/></a>"
      ]
    },
    {
      "cell_type": "code",
      "execution_count": null,
      "metadata": {
        "id": "eHk3b1EQpnVL"
      },
      "outputs": [],
      "source": [
        "!pip install -q -U google-generativeai\n",
        "!pip install --upgrade weave\n"
      ]
    },
    {
      "cell_type": "markdown",
      "source": [
        "\n",
        "In this block, we'll import the libraries we've installed as well as a couple others. They are:\n",
        "- weave:  For logging our prompts and responses to W&B Weave.\n",
        "- pathlib:  It's required by generativeai.\n",
        "- textwrap: Tools for formatting text.\n",
        "- generativeai: The Google Generative AI library. The reason you're here, we assume!\n",
        "display and markdown: Lets us display text nicely in Jupyter.\n",
        "\n",
        "\n"
      ],
      "metadata": {
        "id": "KwhdpYtRp5zJ"
      }
    },
    {
      "cell_type": "code",
      "source": [
        "import google.generativeai as genai\n",
        "import weave\n",
        "\n",
        "\n",
        "def format_res(text):\n",
        "    return text.replace('•', '  *')\n"
      ],
      "metadata": {
        "id": "e_spRS4wp4gn"
      },
      "execution_count": null,
      "outputs": []
    },
    {
      "cell_type": "markdown",
      "source": [
        "Add your API Key"
      ],
      "metadata": {
        "id": "KywLSWm9qdFf"
      }
    },
    {
      "cell_type": "code",
      "source": [
        "gemini_api_key = input (\"XXXXX\")\n",
        "genai.configure(api_key=gemini_api_key)\n",
        "#print(gemini_api_key)\n"
      ],
      "metadata": {
        "id": "CBnu6EJpqdpM"
      },
      "execution_count": null,
      "outputs": []
    },
    {
      "cell_type": "markdown",
      "source": [
        "Add the query"
      ],
      "metadata": {
        "id": "jL9wC3n-rRKp"
      }
    },
    {
      "cell_type": "code",
      "source": [
        "query = input (\"What content would you like me to produce ? :\")\n",
        "print(query)\n"
      ],
      "metadata": {
        "id": "XwEt8s79q9DW"
      },
      "execution_count": null,
      "outputs": []
    },
    {
      "cell_type": "markdown",
      "source": [
        "Choisir son modèle GEMINI"
      ],
      "metadata": {
        "id": "RZ8cSmLyrka6"
      }
    },
    {
      "cell_type": "code",
      "source": [
        "model = genai.GenerativeModel('gemini-pro')\n",
        "# For the multi-model model it will be\n",
        "# model = genai.GenerativeModel('gemini-pro-visual')\n"
      ],
      "metadata": {
        "id": "E-j9aeaCrYMo"
      },
      "execution_count": null,
      "outputs": []
    },
    {
      "cell_type": "markdown",
      "source": [
        "Name your Weights & Biases project"
      ],
      "metadata": {
        "id": "H3RIoxnEr-LX"
      }
    },
    {
      "cell_type": "code",
      "source": [
        "project_name = input(\"What would you like to name your Weave project? :\")\n",
        "wandb_name = project_name.replace(\"\", \"-\")  # Replace spaces with dashes in name\n",
        "weave.init(wandb_name)\n"
      ],
      "metadata": {
        "id": "oduW8XrtsB1a"
      },
      "execution_count": null,
      "outputs": []
    },
    {
      "cell_type": "code",
      "source": [
        "@weave.op()\n",
        "def generate_text_with_gemini(model, query):\n",
        "    response = model.generate_content(query)\n",
        "    return response.text\n",
        "\n",
        "\n",
        "num_responses = 5  # How many responses would you like to log to W&B?\n",
        "for i in range(num_responses):\n",
        "    # Generate text with Gemini Pro and log using Weave\n",
        "    response_text = generate_text_with_gemini(model, query)\n",
        "    # Display primary response\n",
        "    print(format_res(response_text))\n"
      ],
      "metadata": {
        "id": "4asN67Uqt7NC"
      },
      "execution_count": null,
      "outputs": []
    }
  ]
}